{
 "cells": [
  {
   "cell_type": "code",
   "execution_count": 1,
   "id": "54377fc7",
   "metadata": {},
   "outputs": [],
   "source": [
    "import pandas as pd"
   ]
  },
  {
   "cell_type": "code",
   "execution_count": 167,
   "id": "439a4bea",
   "metadata": {},
   "outputs": [],
   "source": [
    "postal_codes = pd.read_csv(\"postal_codes_poland.csv\")\n",
    "statistics = pd.read_csv(\"population_data.csv\")\n",
    "\n",
    "\n",
    "cities = [\n",
    "    \"Warszawa\",\n",
    "    \"Łódź\",\n",
    "    \"Kraków\",\n",
    "    \"Wrocław\",\n",
    "    \"Poznań\",\n",
    "    \"Jelenia Góra\",\n",
    "    \"Bieruń\",\n",
    "    \"Zawiercie\",\n",
    "    \"Będzin\",\n",
    "    \"Mikołów\",\n",
    "    \"Orzesze\",\n",
    "]\n",
    "postal_codes[\"city_clean\"] = postal_codes[\"Miejscowość\"].str.strip().str.title()\n",
    "postal_codes.loc[postal_codes[\"Gmina\"].isin(cities), \"city_clean\"] = postal_codes[\n",
    "    \"Gmina\"\n",
    "]\n",
    "\n",
    "postal_codes.loc[\n",
    "    (postal_codes[\"Gmina\"] == \"Józefów\") & (postal_codes[\"Powiat\"] == \"otwocki\"),\n",
    "    \"city_clean\",\n",
    "] = \"Józefów\"\n",
    "\n",
    "\n",
    "postal_codes.loc[\n",
    "    postal_codes[\"Miejscowość\"] == \"Kraśnik (Kraśnik Fabryczny)\",\n",
    "    \"city_clean\",\n",
    "] = \"Kraśnik\"\n",
    "\n",
    "statistics[\"city_clean\"] = statistics[\"Miasto\"].str.strip().str.title()\n",
    "\n",
    "postal_codes = postal_codes.drop([\"PNA\", \"Ulica\", \"Numery\"], axis=1)\n",
    "postal_codes = postal_codes.drop_duplicates()\n",
    "\n",
    "\n",
    "merged = postal_codes.merge(\n",
    "    statistics, on=[\"city_clean\", \"Powiat\", \"Województwo\"], how=\"left\"\n",
    ")"
   ]
  },
  {
   "cell_type": "code",
   "execution_count": null,
   "id": "41252809",
   "metadata": {},
   "outputs": [],
   "source": []
  }
 ],
 "metadata": {
  "kernelspec": {
   "display_name": "postal-codes-api",
   "language": "python",
   "name": "python3"
  },
  "language_info": {
   "codemirror_mode": {
    "name": "ipython",
    "version": 3
   },
   "file_extension": ".py",
   "mimetype": "text/x-python",
   "name": "python",
   "nbconvert_exporter": "python",
   "pygments_lexer": "ipython3",
   "version": "3.13.7"
  }
 },
 "nbformat": 4,
 "nbformat_minor": 5
}
